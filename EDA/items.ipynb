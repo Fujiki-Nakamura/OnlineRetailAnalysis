{
 "cells": [
  {
   "cell_type": "code",
   "execution_count": 8,
   "metadata": {
    "collapsed": false
   },
   "outputs": [],
   "source": [
    "from IPython.core.display import display\n",
    "import matplotlib.pyplot as plt\n",
    "%matplotlib inline\n",
    "plt.style.use('ggplot')\n",
    "import numpy as np\n",
    "import pandas as pd"
   ]
  },
  {
   "cell_type": "code",
   "execution_count": null,
   "metadata": {
    "collapsed": true
   },
   "outputs": [],
   "source": [
    "data_dir = '../data/'\n",
    "file = 'online_retail.xlsx'\n",
    "df_origin = pd.read_excel(data_dir + file)"
   ]
  },
  {
   "cell_type": "code",
   "execution_count": 2,
   "metadata": {
    "collapsed": false
   },
   "outputs": [
    {
     "data": {
      "text/plain": [
       "4070"
      ]
     },
     "execution_count": 2,
     "metadata": {},
     "output_type": "execute_result"
    }
   ],
   "source": [
    "# item ユニーク数\n",
    "df_origin['StockCode'].nunique()"
   ]
  },
  {
   "cell_type": "code",
   "execution_count": 3,
   "metadata": {
    "collapsed": false
   },
   "outputs": [
    {
     "data": {
      "text/plain": [
       "4223"
      ]
     },
     "execution_count": 3,
     "metadata": {},
     "output_type": "execute_result"
    }
   ],
   "source": [
    "df_origin['Description'].nunique()"
   ]
  },
  {
   "cell_type": "code",
   "execution_count": 12,
   "metadata": {
    "collapsed": false
   },
   "outputs": [
    {
     "data": {
      "text/plain": [
       "StockCode\n",
       "10002     73\n",
       "10080     24\n",
       "10120     30\n",
       "10125     94\n",
       "10133    200\n",
       "dtype: int64"
      ]
     },
     "metadata": {},
     "output_type": "display_data"
    },
    {
     "data": {
      "text/plain": [
       "StockCode\n",
       "gift_0001_20    10\n",
       "gift_0001_30     8\n",
       "gift_0001_40     3\n",
       "gift_0001_50     4\n",
       "m                1\n",
       "dtype: int64"
      ]
     },
     "metadata": {},
     "output_type": "display_data"
    }
   ],
   "source": [
    "# トランザクション数が多い item = 人気の商品\n",
    "\n",
    "display(df_origin.groupby('StockCode').size().head())\n",
    "display(df_origin.groupby('StockCode').size().tail())"
   ]
  },
  {
   "cell_type": "code",
   "execution_count": 37,
   "metadata": {
    "collapsed": false
   },
   "outputs": [
    {
     "data": {
      "image/png": "[encoded data removed]",
      "text/plain": [
       "<matplotlib.figure.Figure at 0x11fc94208>"
      ]
     },
     "metadata": {},
     "output_type": "display_data"
    }
   ],
   "source": [
    "# item, トランザクション数の多い順にプロット\n",
    "# NOTE:\n",
    "# [] 売上の大部分を占めている商品を求める\n",
    "\n",
    "df_origin.groupby('StockCode').size().sort_values(ascending=False).plot()\n",
    "plt.ylabel( '# of transactions')\n",
    "plt.show()"
   ]
  },
  {
   "cell_type": "code",
   "execution_count": 42,
   "metadata": {
    "collapsed": false
   },
   "outputs": [
    {
     "data": {
      "text/plain": [
       "Index([10002, 10080, 10120, 10125, 10133], dtype='object', name='StockCode')"
      ]
     },
     "metadata": {},
     "output_type": "display_data"
    },
    {
     "name": "stdout",
     "output_type": "stream",
     "text": [
      "10002 ['INFLATABLE POLITICAL GLOBE ' nan]\n",
      "10080 ['GROOVY CACTUS INFLATABLE' nan 'check']\n",
      "10120 ['DOGGY RUBBER']\n",
      "10125 ['MINI FUNKY DESIGN TAPES']\n",
      "10133 ['COLOURING PENCILS BROWN TUBE' 'damaged']\n"
     ]
    }
   ],
   "source": [
    "# items, transaction top 5\n",
    "\n",
    "items_top5 = df_origin.groupby('StockCode').size().head().index\n",
    "display(items_top5)\n",
    "\n",
    "for stock_code in items_top5:\n",
    "    item_name = df_origin[df_origin['StockCode'] == stock_code]['Description'].unique()\n",
    "    print(stock_code, item_name)"
   ]
  },
  {
   "cell_type": "code",
   "execution_count": null,
   "metadata": {
    "collapsed": true
   },
   "outputs": [],
   "source": []
  }
 ],
 "metadata": {
  "anaconda-cloud": {},
  "kernelspec": {
   "display_name": "Python [conda env:DataScience]",
   "language": "python",
   "name": "conda-env-DataScience-py"
  },
  "language_info": {
   "codemirror_mode": {
    "name": "ipython",
    "version": 3
   },
   "file_extension": ".py",
   "mimetype": "text/x-python",
   "name": "python",
   "nbconvert_exporter": "python",
   "pygments_lexer": "ipython3",
   "version": "3.5.2"
  }
 },
 "nbformat": 4,
 "nbformat_minor": 1
}
