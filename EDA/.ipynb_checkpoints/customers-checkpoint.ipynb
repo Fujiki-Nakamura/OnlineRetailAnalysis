{
 "cells": [
  {
   "cell_type": "code",
   "execution_count": 2,
   "metadata": {
    "collapsed": false
   },
   "outputs": [],
   "source": [
    "import matplotlib.pyplot as plt\n",
    "%matplotlib inline\n",
    "plt.style.use('ggplot')\n",
    "import numpy as np\n",
    "import pandas as pd\n",
    "\n",
    "data_dir = '../data/'\n",
    "file = 'online_retail.xlsx'\n",
    "df_origin = pd.read_excel(data_dir + file)"
   ]
  },
  {
   "cell_type": "code",
   "execution_count": 3,
   "metadata": {
    "collapsed": false
   },
   "outputs": [
    {
     "data": {
      "text/plain": [
       "4372"
      ]
     },
     "execution_count": 3,
     "metadata": {},
     "output_type": "execute_result"
    }
   ],
   "source": [
    "# customer 数\n",
    "df_origin['CustomerID'].nunique()"
   ]
  },
  {
   "cell_type": "code",
   "execution_count": 5,
   "metadata": {
    "collapsed": false
   },
   "outputs": [
    {
     "data": {
      "text/plain": [
       "count    4372.000000\n",
       "mean       93.053294\n",
       "std       232.471608\n",
       "min         1.000000\n",
       "25%        17.000000\n",
       "50%        42.000000\n",
       "75%       102.000000\n",
       "max      7983.000000\n",
       "dtype: float64"
      ]
     },
     "execution_count": 5,
     "metadata": {},
     "output_type": "execute_result"
    }
   ],
   "source": [
    "# customer ごとのトランザクション数の統計値\n",
    "# NOTE:\n",
    "# 中央値 = 42 件\n",
    "\n",
    "df_origin.groupby('CustomerID').size().describe()"
   ]
  },
  {
   "cell_type": "code",
   "execution_count": 11,
   "metadata": {
    "collapsed": false
   },
   "outputs": [
    {
     "data": {
      "text/plain": [
       "<matplotlib.axes._subplots.AxesSubplot at 0x12dfe38d0>"
      ]
     },
     "execution_count": 11,
     "metadata": {},
     "output_type": "execute_result"
    },
    {
     "data": {
      "image/png": "[encoded data removed]",
      "text/plain": [
       "<matplotlib.figure.Figure at 0x115637748>"
      ]
     },
     "metadata": {},
     "output_type": "display_data"
    }
   ],
   "source": [
    "figsize = (10, 5)\n",
    "bins = np.arange(0, 8000, 100)\n",
    "df_origin.groupby('CustomerID').size().plot(kind='hist', figsize=figsize, bins=bins)"
   ]
  },
  {
   "cell_type": "code",
   "execution_count": 15,
   "metadata": {
    "collapsed": false,
    "scrolled": true
   },
   "outputs": [
    {
     "data": {
      "text/plain": [
       "CustomerID\n",
       "17841.0    7983\n",
       "14911.0    5903\n",
       "14096.0    5128\n",
       "12748.0    4642\n",
       "14606.0    2782\n",
       "15311.0    2491\n",
       "14646.0    2085\n",
       "13089.0    1857\n",
       "13263.0    1677\n",
       "14298.0    1640\n",
       "15039.0    1508\n",
       "14156.0    1420\n",
       "18118.0    1284\n",
       "14159.0    1212\n",
       "14796.0    1165\n",
       "15005.0    1160\n",
       "16033.0    1152\n",
       "14056.0    1128\n",
       "14769.0    1094\n",
       "17511.0    1076\n",
       "13081.0    1061\n",
       "14527.0    1011\n",
       "16549.0     981\n",
       "14456.0     977\n",
       "15719.0     938\n",
       "15555.0     925\n",
       "16931.0     898\n",
       "17811.0     872\n",
       "14505.0     803\n",
       "12415.0     778\n",
       "           ... \n",
       "15590.0       1\n",
       "16078.0       1\n",
       "16093.0       1\n",
       "13703.0       1\n",
       "18068.0       1\n",
       "14705.0       1\n",
       "16138.0       1\n",
       "16144.0       1\n",
       "16148.0       1\n",
       "15562.0       1\n",
       "15524.0       1\n",
       "12503.0       1\n",
       "12505.0       1\n",
       "15510.0       1\n",
       "15316.0       1\n",
       "17956.0       1\n",
       "17948.0       1\n",
       "16323.0       1\n",
       "14090.0       1\n",
       "17925.0       1\n",
       "17923.0       1\n",
       "16428.0       1\n",
       "14119.0       1\n",
       "15389.0       1\n",
       "15369.0       1\n",
       "13391.0       1\n",
       "16579.0       1\n",
       "13366.0       1\n",
       "17763.0       1\n",
       "17846.0       1\n",
       "dtype: int64"
      ]
     },
     "execution_count": 15,
     "metadata": {},
     "output_type": "execute_result"
    }
   ],
   "source": [
    "# トランザクション数の多い customer\n",
    "df_origin.groupby('CustomerID').size().sort_values(ascending=False)"
   ]
  },
  {
   "cell_type": "code",
   "execution_count": null,
   "metadata": {
    "collapsed": true
   },
   "outputs": [],
   "source": []
  }
 ],
 "metadata": {
  "anaconda-cloud": {},
  "kernelspec": {
   "display_name": "Python [conda env:DataScience]",
   "language": "python",
   "name": "conda-env-DataScience-py"
  },
  "language_info": {
   "codemirror_mode": {
    "name": "ipython",
    "version": 3
   },
   "file_extension": ".py",
   "mimetype": "text/x-python",
   "name": "python",
   "nbconvert_exporter": "python",
   "pygments_lexer": "ipython3",
   "version": "3.5.2"
  }
 },
 "nbformat": 4,
 "nbformat_minor": 1
}
