{
 "cells": [
  {
   "cell_type": "code",
   "execution_count": 1,
   "metadata": {
    "collapsed": true
   },
   "outputs": [],
   "source": [
    "import time \n",
    "\n",
    "from IPython.core.display import display\n",
    "import matplotlib.pyplot as plt\n",
    "from mpl_toolkits.mplot3d import Axes3D\n",
    "%matplotlib inline\n",
    "plt.style.use('ggplot')\n",
    "import numpy as np\n",
    "import scipy\n",
    "import seaborn as sns\n",
    "sns.set(font='Osaka')\n",
    "import pandas as pd"
   ]
  },
  {
   "cell_type": "code",
   "execution_count": 2,
   "metadata": {
    "collapsed": false
   },
   "outputs": [
    {
     "name": "stdout",
     "output_type": "stream",
     "text": [
      "Load in  1.008876085281372\n"
     ]
    }
   ],
   "source": [
    "t0 = time.time()\n",
    "data_dir = '../data/'\n",
    "file = 'df_item_transaction.csv'\n",
    "df_item_transaction = pd.read_csv(data_dir + file)\n",
    "print('Load in ', time.time() - t0)"
   ]
  },
  {
   "cell_type": "code",
   "execution_count": 4,
   "metadata": {
    "collapsed": false
   },
   "outputs": [
    {
     "name": "stdout",
     "output_type": "stream",
     "text": [
      "# of distinct items = 3910\n",
      "# of distinct customers = 3918\n"
     ]
    }
   ],
   "source": [
    "country = 'United Kingdom'\n",
    "df_uk = \\\n",
    "df_item_transaction[df_item_transaction['Country'] == country].drop('Unnamed: 0', axis=1)\n",
    "\n",
    "# CustomerID to Nominal\n",
    "df_uk['CustomerID'] = df_uk['CustomerID'].fillna('NaN')\n",
    "\n",
    "# InvoiceDate to Datetime\n",
    "df_uk['InvoiceDate'] = pd.to_datetime(df_uk['InvoiceDate'])\n",
    "\n",
    "assert df_uk['StockCode'].nunique() == 3910\n",
    "assert df_uk['CustomerID'].nunique() == 3918\n",
    "\n",
    "print('# of distinct items =', df_uk['StockCode'].nunique())\n",
    "print('# of distinct customers =', df_uk['CustomerID'].nunique())"
   ]
  },
  {
   "cell_type": "code",
   "execution_count": 5,
   "metadata": {
    "collapsed": true
   },
   "outputs": [],
   "source": [
    "# Customer ごとにデータを集計　\n",
    "# Recency\n",
    "# Frequency = #ofTransactions\n",
    "# Monetary = sum(Sales)\n",
    "\n",
    "# Sales: min, max, median, mean, sum\n",
    "# Quantity: min, max, median, mean, sum\n",
    "# Quantity / Transaction: min, max, median, mean\n",
    "# Unitprice: min, max, median, mean\n",
    "\n",
    "# Item / Transaction = 商品の種類 / Transaction: min, max, median, mean\n",
    "\n",
    "\n",
    "# 各商品をいくつ購入したか？　(3,910 items hence the same # of columns)\n",
    "\n",
    "# TODO:\n",
    "# ある商品を購入する顧客は Frequency が大きいといった関係が発見できるか？\n",
    "# RMF 分析で優良顧客を見つけ出し、彼らの 2月, 4月の\n",
    "\n",
    "\n",
    "# Monetary\n",
    "df_uk_per_customer = \\\n",
    "pd.DataFrame(df_uk.groupby('CustomerID')['Sales'].sum()).reset_index()\\\n",
    ".rename(columns={'Sales': 'Monetary'})\n",
    "\n",
    "# Frequency\n",
    "df_uk_per_customer['Frequency'] = \\\n",
    "pd.DataFrame(df_uk.groupby('CustomerID')['InvoiceNo'].nunique()).reset_index()['InvoiceNo']\n",
    "# small test\n",
    "test_customer = 12748\n",
    "assert df_uk_per_customer[df_uk_per_customer['CustomerID'] == test_customer]['Frequency'].values\\\n",
    "            == df_uk[df_uk['CustomerID'] == test_customer]['InvoiceNo'].nunique()\n",
    "\n",
    "# Recency\n",
    "# 基準日\n",
    "df_uk_per_customer['ReferenceDate'] = \\\n",
    "    pd.to_datetime(df_item_transaction['InvoiceDate']).max()\n",
    "# 最終購入日\n",
    "df_uk_per_customer['LastTransactionDate'] = \\\n",
    "    pd.DataFrame(df_uk.groupby('CustomerID')['InvoiceDate'].max()).reset_index()['InvoiceDate']\n",
    "# 基準日 - 最終購入日\n",
    "df_uk_per_customer['Recency(Day)'] = \\\n",
    "(df_uk_per_customer['ReferenceDate'].dt.date - df_uk_per_customer['LastTransactionDate'].dt.date).dt.days\n",
    "\n",
    "\n",
    "# sum(Quantity)\n",
    "df_uk_per_customer['QuantitySum'] = pd.DataFrame(df_uk.groupby('CustomerID')['Quantity'].sum()).reset_index()['Quantity']\n",
    "\n",
    "# Quantity / Transaction\n",
    "df_uk_per_customer['QuantityPerTransaction'] = df_uk_per_customer['QuantitySum'] / df_uk_per_customer['Frequency']\n",
    "\n",
    "# Sales / Transaction\n",
    "df_uk_per_customer['Sales/Transaction'] = df_uk_per_customer['Monetary'] / df_uk_per_customer['Frequency']"
   ]
  },
  {
   "cell_type": "code",
   "execution_count": 6,
   "metadata": {
    "collapsed": false
   },
   "outputs": [
    {
     "data": {
      "text/html": [
       "<div>\n",
       "<table border=\"1\" class=\"dataframe\">\n",
       "  <thead>\n",
       "    <tr style=\"text-align: right;\">\n",
       "      <th></th>\n",
       "      <th>CustomerID</th>\n",
       "      <th>Monetary</th>\n",
       "      <th>Frequency</th>\n",
       "      <th>ReferenceDate</th>\n",
       "      <th>LastTransactionDate</th>\n",
       "      <th>Recency(Day)</th>\n",
       "      <th>QuantitySum</th>\n",
       "      <th>QuantityPerTransaction</th>\n",
       "      <th>Sales/Transaction</th>\n",
       "    </tr>\n",
       "  </thead>\n",
       "  <tbody>\n",
       "    <tr>\n",
       "      <th>0</th>\n",
       "      <td>12346</td>\n",
       "      <td>77183.60</td>\n",
       "      <td>1</td>\n",
       "      <td>2011-12-09 12:50:00</td>\n",
       "      <td>2011-01-18 10:01:00</td>\n",
       "      <td>325</td>\n",
       "      <td>74215</td>\n",
       "      <td>74215.000000</td>\n",
       "      <td>77183.600000</td>\n",
       "    </tr>\n",
       "    <tr>\n",
       "      <th>1</th>\n",
       "      <td>12747</td>\n",
       "      <td>4196.01</td>\n",
       "      <td>11</td>\n",
       "      <td>2011-12-09 12:50:00</td>\n",
       "      <td>2011-12-07 14:34:00</td>\n",
       "      <td>2</td>\n",
       "      <td>1275</td>\n",
       "      <td>115.909091</td>\n",
       "      <td>381.455455</td>\n",
       "    </tr>\n",
       "    <tr>\n",
       "      <th>2</th>\n",
       "      <td>12748</td>\n",
       "      <td>32317.32</td>\n",
       "      <td>206</td>\n",
       "      <td>2011-12-09 12:50:00</td>\n",
       "      <td>2011-12-09 12:20:00</td>\n",
       "      <td>0</td>\n",
       "      <td>25511</td>\n",
       "      <td>123.839806</td>\n",
       "      <td>156.880194</td>\n",
       "    </tr>\n",
       "  </tbody>\n",
       "</table>\n",
       "</div>"
      ],
      "text/plain": [
       "  CustomerID  Monetary  Frequency       ReferenceDate LastTransactionDate  \\\n",
       "0      12346  77183.60          1 2011-12-09 12:50:00 2011-01-18 10:01:00   \n",
       "1      12747   4196.01         11 2011-12-09 12:50:00 2011-12-07 14:34:00   \n",
       "2      12748  32317.32        206 2011-12-09 12:50:00 2011-12-09 12:20:00   \n",
       "\n",
       "   Recency(Day)  QuantitySum  QuantityPerTransaction  Sales/Transaction  \n",
       "0           325        74215            74215.000000       77183.600000  \n",
       "1             2         1275              115.909091         381.455455  \n",
       "2             0        25511              123.839806         156.880194  "
      ]
     },
     "metadata": {},
     "output_type": "display_data"
    }
   ],
   "source": [
    "display(df_uk_per_customer.head(3))"
   ]
  },
  {
   "cell_type": "code",
   "execution_count": null,
   "metadata": {
    "collapsed": true
   },
   "outputs": [],
   "source": []
  }
 ],
 "metadata": {
  "kernelspec": {
   "display_name": "Python [conda env:DataScience]",
   "language": "python",
   "name": "conda-env-DataScience-py"
  },
  "language_info": {
   "codemirror_mode": {
    "name": "ipython",
    "version": 3
   },
   "file_extension": ".py",
   "mimetype": "text/x-python",
   "name": "python",
   "nbconvert_exporter": "python",
   "pygments_lexer": "ipython3",
   "version": "3.5.2"
  }
 },
 "nbformat": 4,
 "nbformat_minor": 2
}
