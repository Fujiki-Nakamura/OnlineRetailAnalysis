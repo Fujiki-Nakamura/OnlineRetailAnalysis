{
 "cells": [
  {
   "cell_type": "code",
   "execution_count": 1,
   "metadata": {
    "collapsed": false
   },
   "outputs": [
    {
     "name": "stdout",
     "output_type": "stream",
     "text": [
      "Load in  0.929642915725708\n"
     ]
    }
   ],
   "source": [
    "import time \n",
    "\n",
    "from IPython.core.display import display\n",
    "import matplotlib.pyplot as plt\n",
    "%matplotlib inline\n",
    "plt.style.use('ggplot')\n",
    "import numpy as np\n",
    "import seaborn as sns\n",
    "sns.set(font='Osaka')\n",
    "import pandas as pd\n",
    "\n",
    "t0 = time.time()\n",
    "data_dir = '../data/'\n",
    "file = 'df_item_transaction.csv'\n",
    "df_item_transaction = pd.read_csv(data_dir + file)\n",
    "print('Load in ', time.time() - t0)"
   ]
  },
  {
   "cell_type": "code",
   "execution_count": 7,
   "metadata": {
    "collapsed": false
   },
   "outputs": [
    {
     "name": "stdout",
     "output_type": "stream",
     "text": [
      "InvoiceNo               int64\n",
      "StockCode              object\n",
      "Description            object\n",
      "Quantity                int64\n",
      "InvoiceDate    datetime64[ns]\n",
      "UnitPrice             float64\n",
      "CustomerID             object\n",
      "Country                object\n",
      "Sales                 float64\n",
      "dtype: object\n"
     ]
    },
    {
     "data": {
      "text/html": [
       "<div>\n",
       "<table border=\"1\" class=\"dataframe\">\n",
       "  <thead>\n",
       "    <tr style=\"text-align: right;\">\n",
       "      <th></th>\n",
       "      <th>InvoiceNo</th>\n",
       "      <th>StockCode</th>\n",
       "      <th>Description</th>\n",
       "      <th>Quantity</th>\n",
       "      <th>InvoiceDate</th>\n",
       "      <th>UnitPrice</th>\n",
       "      <th>CustomerID</th>\n",
       "      <th>Country</th>\n",
       "      <th>Sales</th>\n",
       "    </tr>\n",
       "  </thead>\n",
       "  <tbody>\n",
       "    <tr>\n",
       "      <th>0</th>\n",
       "      <td>536365</td>\n",
       "      <td>85123A</td>\n",
       "      <td>WHITE HANGING HEART T-LIGHT HOLDER</td>\n",
       "      <td>6</td>\n",
       "      <td>2010-12-01 08:26:00</td>\n",
       "      <td>2.55</td>\n",
       "      <td>17850</td>\n",
       "      <td>United Kingdom</td>\n",
       "      <td>15.30</td>\n",
       "    </tr>\n",
       "    <tr>\n",
       "      <th>1</th>\n",
       "      <td>536365</td>\n",
       "      <td>71053</td>\n",
       "      <td>WHITE METAL LANTERN</td>\n",
       "      <td>6</td>\n",
       "      <td>2010-12-01 08:26:00</td>\n",
       "      <td>3.39</td>\n",
       "      <td>17850</td>\n",
       "      <td>United Kingdom</td>\n",
       "      <td>20.34</td>\n",
       "    </tr>\n",
       "    <tr>\n",
       "      <th>2</th>\n",
       "      <td>536365</td>\n",
       "      <td>84406B</td>\n",
       "      <td>CREAM CUPID HEARTS COAT HANGER</td>\n",
       "      <td>8</td>\n",
       "      <td>2010-12-01 08:26:00</td>\n",
       "      <td>2.75</td>\n",
       "      <td>17850</td>\n",
       "      <td>United Kingdom</td>\n",
       "      <td>22.00</td>\n",
       "    </tr>\n",
       "    <tr>\n",
       "      <th>3</th>\n",
       "      <td>536365</td>\n",
       "      <td>84029G</td>\n",
       "      <td>KNITTED UNION FLAG HOT WATER BOTTLE</td>\n",
       "      <td>6</td>\n",
       "      <td>2010-12-01 08:26:00</td>\n",
       "      <td>3.39</td>\n",
       "      <td>17850</td>\n",
       "      <td>United Kingdom</td>\n",
       "      <td>20.34</td>\n",
       "    </tr>\n",
       "    <tr>\n",
       "      <th>4</th>\n",
       "      <td>536365</td>\n",
       "      <td>84029E</td>\n",
       "      <td>RED WOOLLY HOTTIE WHITE HEART.</td>\n",
       "      <td>6</td>\n",
       "      <td>2010-12-01 08:26:00</td>\n",
       "      <td>3.39</td>\n",
       "      <td>17850</td>\n",
       "      <td>United Kingdom</td>\n",
       "      <td>20.34</td>\n",
       "    </tr>\n",
       "  </tbody>\n",
       "</table>\n",
       "</div>"
      ],
      "text/plain": [
       "   InvoiceNo StockCode                          Description  Quantity  \\\n",
       "0     536365    85123A   WHITE HANGING HEART T-LIGHT HOLDER         6   \n",
       "1     536365     71053                  WHITE METAL LANTERN         6   \n",
       "2     536365    84406B       CREAM CUPID HEARTS COAT HANGER         8   \n",
       "3     536365    84029G  KNITTED UNION FLAG HOT WATER BOTTLE         6   \n",
       "4     536365    84029E       RED WOOLLY HOTTIE WHITE HEART.         6   \n",
       "\n",
       "          InvoiceDate  UnitPrice CustomerID         Country  Sales  \n",
       "0 2010-12-01 08:26:00       2.55      17850  United Kingdom  15.30  \n",
       "1 2010-12-01 08:26:00       3.39      17850  United Kingdom  20.34  \n",
       "2 2010-12-01 08:26:00       2.75      17850  United Kingdom  22.00  \n",
       "3 2010-12-01 08:26:00       3.39      17850  United Kingdom  20.34  \n",
       "4 2010-12-01 08:26:00       3.39      17850  United Kingdom  20.34  "
      ]
     },
     "metadata": {},
     "output_type": "display_data"
    }
   ],
   "source": [
    "country = 'United Kingdom'\n",
    "df_uk = \\\n",
    "df_item_transaction[df_item_transaction['Country'] == country].drop('Unnamed: 0', axis=1)\n",
    "\n",
    "# CustomerID to Nominal\n",
    "df_uk['CustomerID'] = df_uk['CustomerID'].fillna('NaN')\n",
    "\n",
    "# InvoiceDate to Datetime\n",
    "df_uk['InvoiceDate'] = pd.to_datetime(df_uk['InvoiceDate'])\n",
    "\n",
    "print(df_uk.dtypes)\n",
    "display(df_uk.head())"
   ]
  },
  {
   "cell_type": "code",
   "execution_count": 12,
   "metadata": {
    "collapsed": false
   },
   "outputs": [
    {
     "name": "stdout",
     "output_type": "stream",
     "text": [
      "# of distinct items = 3910\n",
      "# of distinct customers = 3918\n"
     ]
    }
   ],
   "source": [
    "print('# of distinct items =', df_uk['StockCode'].nunique())\n",
    "print('# of distinct customers =', df_uk['CustomerID'].nunique())"
   ]
  },
  {
   "cell_type": "code",
   "execution_count": null,
   "metadata": {
    "collapsed": true
   },
   "outputs": [],
   "source": [
    "# Customer ごとにデータを集計　\n",
    "# Recency\n",
    "# Frequency = #ofTransactions\n",
    "# Monetary = sum(Sales)\n",
    "\n",
    "# Sales: min, max, median, mean, sum\n",
    "# Quantity: min, max, median, mean, sum\n",
    "# Quantity / Transaction: min, max, median, mean\n",
    "# Unitprice: min, max, median, mean\n",
    "\n",
    "# Item / Transaction = 商品の種類 / Transaction: min, max, median, mean\n",
    "\n",
    "\n",
    "# 各商品をいくつ購入したか？　(3,910 columns)\n",
    "\n",
    "# TODO:\n",
    "# ある商品を購入する顧客は Frequency が大きいといった関係が発見できるか？\n",
    "# RMF 分析で優良顧客を見つけ出し、彼らの 2月, 4月の\n",
    "\n",
    "#df_uk_per_customer = \\\n"
   ]
  }
 ],
 "metadata": {
  "anaconda-cloud": {},
  "kernelspec": {
   "display_name": "Python [conda env:DataScience]",
   "language": "python",
   "name": "conda-env-DataScience-py"
  },
  "language_info": {
   "codemirror_mode": {
    "name": "ipython",
    "version": 3
   },
   "file_extension": ".py",
   "mimetype": "text/x-python",
   "name": "python",
   "nbconvert_exporter": "python",
   "pygments_lexer": "ipython3",
   "version": "3.5.2"
  }
 },
 "nbformat": 4,
 "nbformat_minor": 2
}
