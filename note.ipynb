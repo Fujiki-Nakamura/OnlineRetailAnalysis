{
 "cells": [
  {
   "cell_type": "markdown",
   "metadata": {},
   "source": [
    "## この EC の特徴\n",
    "- 国別に、トランザクション数 * 1トランザクションあたりの平均売上, 売上を求める。\n",
    "  - トランザクションが多い国\n",
    "  - 平均売上が高い国\n",
    "  - 両方高くて合計売上に対するその国の売上の比率が高い国\n",
    "- 各国に大口の顧客がいて、そうした一部の顧客に依存しているのではないか？\n",
    "  - 可視化の方法\n",
    "    - 各国で売上の積み上げ棒グラフ, 積み上げの中身は Customer ごとの構成比\n",
    "- 一部の顧客がその国の売上全体に占める割合が高い国　(: 売上第1位の顧客がその国の売上全体に占める割合)\n",
    "  - Netherlands: 98%\n",
    "  - Singapore: 100%\n",
    "  - Sweden: 83%\n",
    "  - Japan: 57%\n",
    "  - Australia: 90%\n",
    "  - これらの国の売上第1顧客はなぜ売上が高いのか？ その国の中ではトランザクション数が多い？ 平均売上が高い？"
   ]
  },
  {
   "cell_type": "markdown",
   "metadata": {},
   "source": [
    "### 改善点\n",
    "- トランザクション数は多いが 1トランザクションあたりの平均売上は低い国の平均売上を上げる。\n",
    "  - France, Germany など\n",
    "  - より高価な類似している商品を勧める\n",
    "- トランザクション数はそれほど多くないが、1トランザクションあたりの平均売上が高い国のトランザクション数を増やす。\n",
    "  - Australia, Singapore, Japan, Sweden など\n",
    "  - 特に、それらの国の顧客のうち、売上がそれほど高くない顧客のトランザクション数を増やすという施策はどうか？"
   ]
  },
  {
   "cell_type": "markdown",
   "metadata": {},
   "source": [
    "## 各国の購入アイテムの比較\n",
    "- 購入されているアイテムの構成が似ているなら、それらの国の需要に似ているところがあると考えられるのではないか？"
   ]
  },
  {
   "cell_type": "markdown",
   "metadata": {},
   "source": [
    "## 機械学習を応用するには？\n",
    "- クラスタリングをしてみることがまず思いつく。"
   ]
  },
  {
   "cell_type": "code",
   "execution_count": null,
   "metadata": {
    "collapsed": true
   },
   "outputs": [],
   "source": []
  }
 ],
 "metadata": {
  "kernelspec": {
   "display_name": "Python [conda env:DataScience]",
   "language": "python",
   "name": "conda-env-DataScience-py"
  },
  "language_info": {
   "codemirror_mode": {
    "name": "ipython",
    "version": 3
   },
   "file_extension": ".py",
   "mimetype": "text/x-python",
   "name": "python",
   "nbconvert_exporter": "python",
   "pygments_lexer": "ipython3",
   "version": "3.5.2"
  }
 },
 "nbformat": 4,
 "nbformat_minor": 1
}
